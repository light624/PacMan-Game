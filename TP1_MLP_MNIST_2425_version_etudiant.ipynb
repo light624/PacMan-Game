{
  "nbformat": 4,
  "nbformat_minor": 0,
  "metadata": {
    "colab": {
      "provenance": [],
      "include_colab_link": true
    },
    "kernelspec": {
      "name": "python3",
      "display_name": "Python 3"
    },
    "language_info": {
      "name": "python"
    }
  },
  "cells": [
    {
      "cell_type": "markdown",
      "metadata": {
        "id": "view-in-github",
        "colab_type": "text"
      },
      "source": [
        "<a href=\"https://colab.research.google.com/github/light624/PacMan-Game/blob/main/TP1_MLP_MNIST_2425_version_etudiant.ipynb\" target=\"_parent\"><img src=\"https://colab.research.google.com/assets/colab-badge.svg\" alt=\"Open In Colab\"/></a>"
      ]
    },
    {
      "cell_type": "markdown",
      "source": [
        "# TP1 : Classification d'images via MLP\n",
        "\n",
        "L'objectif de ce TP est de se familiariser avec les fonctionnalités élémentaires de la librairie TensorFlow (https://www.tensorflow.org) via l'API Keras (-> https://keras.io/) . Il s'agit dans un premier temps d'une initiation dans le cadre d'un problème très classique : la classification d'images tirées du jeu de données MNIST. Les principaux \"blocs\" intervenant dans la résolution du problème sont présentés.\n",
        "\n",
        "## 1. Dataset : chargement, normalisation et visualisation\n",
        "\n",
        "Le jeu de données MNIST fait partie des dataset que l'on peut appeler directement à partir de keras."
      ],
      "metadata": {
        "id": "PQd_77hOEphL"
      }
    },
    {
      "cell_type": "code",
      "source": [
        "%load_ext tensorboard\n",
        "\n",
        "import matplotlib.pyplot as plt\n",
        "import numpy as np\n",
        "import tensorflow as tf\n",
        "import datetime\n",
        "\n",
        "## Step 1\n",
        "## Chargement des données (dataset MNIST)\n",
        "## directement via keras\n",
        "\n",
        "data = tf.keras.datasets.mnist\n",
        "\n",
        "## Constitution des sous-jeux\n",
        "\n",
        "(x_train,y_train), (x_test,y_test)=data.load_data()\n"
      ],
      "metadata": {
        "id": "9W_7HC-SHemH",
        "colab": {
          "base_uri": "https://localhost:8080/"
        },
        "outputId": "f578f42f-fa4a-4893-a12e-2f3c583b2952"
      },
      "execution_count": 1,
      "outputs": [
        {
          "output_type": "stream",
          "name": "stdout",
          "text": [
            "Downloading data from https://storage.googleapis.com/tensorflow/tf-keras-datasets/mnist.npz\n",
            "\u001b[1m11490434/11490434\u001b[0m \u001b[32m━━━━━━━━━━━━━━━━━━━━\u001b[0m\u001b[37m\u001b[0m \u001b[1m0s\u001b[0m 0us/step\n"
          ]
        }
      ]
    },
    {
      "cell_type": "code",
      "source": [
        "#d Affichage d'un échantillon d'images :\n",
        "\n",
        "import matplotlib.pyplot as plt\n",
        "\n",
        "# Afficher 10 images du dataset avec leurs labels\n",
        "plt.figure(figsize=(10,5))\n",
        "for i in range(10):\n",
        "    plt.subplot(2, 5, i+1)\n",
        "    plt.imshow(x_train[i], cmap=\"gray\")\n",
        "    plt.title(f\"Label: {y_train[i]}\")\n",
        "    plt.axis(\"off\")\n",
        "\n",
        "plt.show()\n"
      ],
      "metadata": {
        "colab": {
          "base_uri": "https://localhost:8080/",
          "height": 402
        },
        "id": "aLyIcu7b8T75",
        "outputId": "03b6ce48-0aee-4d9b-f0b0-b305e8ef281c"
      },
      "execution_count": 4,
      "outputs": [
        {
          "output_type": "display_data",
          "data": {
            "text/plain": [
              "<Figure size 1000x500 with 10 Axes>"
            ],
            "image/png": "[encoded data removed]"
          },
          "metadata": {}
        }
      ]
    },
    {
      "cell_type": "markdown",
      "source": [
        "Le chargement de tensorboard permettra de visualiser les outputs de l'apprentissage dans un environnement adapté."
      ],
      "metadata": {
        "id": "YqVe-GJJJhVp"
      }
    },
    {
      "cell_type": "markdown",
      "source": [
        "**Question 1** :\n",
        "\n",
        "a) Combien d'images contiennent les jeux d'entrainement et de test ?\n",
        "\n",
        "b) Les classes sont-elles uniformément représentées dans ces jeux de données ?\n",
        "\n",
        "c) Renormaliser ces deux jeux de données de sorte que les niveaux de gris de chaque pixel soient compris entre 0 et 1\n",
        "\n",
        "d) Représenter un échantillon d'images tirées du jeu de données d'entrainement.\n",
        "\n"
      ],
      "metadata": {
        "id": "ZTMub4AHJKB_"
      }
    },
    {
      "cell_type": "code",
      "source": [
        "#c Renormalisation des images :\n",
        "\n",
        "x_train = x_train / 255.0\n",
        "x_test = x_test / 255.0\n"
      ],
      "metadata": {
        "id": "BPzL_Lq_72mI"
      },
      "execution_count": 3,
      "outputs": []
    },
    {
      "cell_type": "markdown",
      "source": [
        "a) Nombre d'images dans les jeux d'entraînement et de test :\n",
        "Le dataset MNIST contient :\n",
        "\n",
        "60,000 images dans l'ensemble d'entraînement (x_train).\n",
        "10,000 images dans l'ensemble de test (x_test).\n",
        "\n",
        "b) Vérification de la distribution des classes :\n",
        "On peut vérifier si les classes sont uniformément réparties en comptant le nombre d'occurrences de chaque chiffre (0 à 9) dans y_train et y_test."
      ],
      "metadata": {
        "id": "M2Rlrerl7dVQ"
      }
    },
    {
      "cell_type": "markdown",
      "source": [
        "## 2. Modèle de calcul (réseaux de type FFNN)\n",
        "\n",
        "Lorsqu'on a chargé les données, la prochaine étape est la construction d'un modèle de calcul (réseau de neurones). C'est une étape plus ou moins simple selon : la complexité du réseau sous-jacent et le niveau de paramétrisation désiré. Dans le cadre de cette introduction, on travaille avec une architecture simple et l'on considère l'implémentation la plus simple et directe possible. On aura recours, comme annoncé, à l'API Keras.\n",
        "\n",
        "**Question 2:**\n",
        "\n",
        "a) A l'aide de $\\texttt{Sequential}$, construire un modèle possédant les caractéristiques suivantes:\n",
        "\n",
        "**Spécification du modèle FFNN**\n",
        "\n",
        "  -Une couche $\\texttt{Flatten}$ qui convertit les données en tableau 1D.\n",
        "\n",
        "  -Une couche cachée $\\texttt{Dense}$ à $n_1=128$ neurones dont les fonctions d'activation sont sigmoidales\n",
        "\n",
        "  -Une couche de sortie $\\texttt{Dense}$ à $n_2=10$ neurones dont la fonction d'activation globale est une fonction softmax\n",
        "\n",
        "  -les poids des connexions associées aux deux couches denses sont initialisées via des lois normales selon la méthode proposée par Glorot (-> https://proceedings.mlr.press/v9/glorot10a/glorot10a.pdf).\n",
        "\n",
        "b) Assembler et visualiser le modèle ainsi construit à l'aide des fonctions $\\texttt{build}$ et $\\texttt{summary}$ de la classe $\\texttt{Model}$.\n",
        "\n",
        "c) Quel est le nombre $n_0$ de neurones associés la couche $\\texttt{Flatten}$ ?\n",
        "\n",
        "d) Pourquoi utiliser une fonction softmax pour la dernière couche ? Que représente la sortie du modèle ?\n",
        "\n",
        "e) Combien de paramètres \"entrainables\" comporte le modèle ?\n",
        "\n",
        "f) Afficher la distribution initiale des poids sur les deux couches denses. Comment modifier celle-ci ?\n",
        "\n"
      ],
      "metadata": {
        "id": "2zybagUIK8U_"
      }
    },
    {
      "cell_type": "code",
      "source": [
        "#Comment modifier cette distribution ?\n",
        "\n",
        "layers.Dense(128, activation='sigmoid', kernel_initializer='he_normal')\n"
      ],
      "metadata": {
        "colab": {
          "base_uri": "https://localhost:8080/"
        },
        "id": "f-yDCYVGFDqv",
        "outputId": "4ed663d8-ff77-4296-c14f-ade0239948fc"
      },
      "execution_count": 8,
      "outputs": [
        {
          "output_type": "execute_result",
          "data": {
            "text/plain": [
              "<Dense name=dense_2, built=False>"
            ]
          },
          "metadata": {},
          "execution_count": 8
        }
      ]
    },
    {
      "cell_type": "code",
      "source": [
        "#f Distribution initiale des poids\n",
        "\n",
        "import matplotlib.pyplot as plt\n",
        "\n",
        "# Récupération des poids des couches denses\n",
        "weights_1 = model.layers[1].get_weights()[0].flatten()  # Poids de la 1ère couche dense\n",
        "weights_2 = model.layers[2].get_weights()[0].flatten()  # Poids de la couche de sortie\n",
        "\n",
        "# Tracé des histogrammes\n",
        "plt.figure(figsize=(12, 5))\n",
        "\n",
        "plt.subplot(1, 2, 1)\n",
        "plt.hist(weights_1, bins=50, color='blue', alpha=0.7)\n",
        "plt.title(\"Distribution des poids - 1ère couche Dense\")\n",
        "\n",
        "plt.subplot(1, 2, 2)\n",
        "plt.hist(weights_2, bins=50, color='red', alpha=0.7)\n",
        "plt.title(\"Distribution des poids - 2ème couche Dense\")\n",
        "\n",
        "plt.show()\n"
      ],
      "metadata": {
        "colab": {
          "base_uri": "https://localhost:8080/",
          "height": 468
        },
        "id": "DMaJXLVGE0nh",
        "outputId": "193be689-11ff-4036-82a1-f81cdee8f13c"
      },
      "execution_count": 7,
      "outputs": [
        {
          "output_type": "display_data",
          "data": {
            "text/plain": [
              "<Figure size 1200x500 with 2 Axes>"
            ],
            "image/png": "[encoded data removed]"
          },
          "metadata": {}
        }
      ]
    },
    {
      "cell_type": "markdown",
      "source": [
        "e) Nombre de paramètres entraînables\n",
        "On calcule les paramètres de chaque couche :\n",
        "\n",
        "Couche Dense (128 neurones) :\n",
        "\n",
        "Entrées : 784\n",
        "Poids :\n",
        "784\n",
        "×\n",
        "128\n",
        "=\n",
        "100352\n",
        "784×128=100352\n",
        "Biais :\n",
        "128\n",
        "128\n",
        "Total :\n",
        "100352\n",
        "+\n",
        "128\n",
        "=\n",
        "100480\n",
        "100352+128=100480\n",
        "Couche Dense (10 neurones) :\n",
        "\n",
        "Entrées : 128\n",
        "Poids :\n",
        "128\n",
        "×\n",
        "10\n",
        "=\n",
        "1280\n",
        "128×10=1280\n",
        "Biais :\n",
        "10\n",
        "10\n",
        "Total :\n",
        "1280\n",
        "+\n",
        "10\n",
        "=\n",
        "1290\n",
        "1280+10=1290\n",
        "Nombre total de paramètres entraînables :\n",
        "100480\n",
        "+\n",
        "1290\n",
        "=\n",
        "101770\n",
        "100480+1290=101770"
      ],
      "metadata": {
        "id": "etE-Kn6xEwIE"
      }
    },
    {
      "cell_type": "markdown",
      "source": [
        "d) Pourquoi utiliser softmax en sortie ?\n",
        "La softmax transforme les scores des 10 neurones en probabilités qui totalisent 1.\n",
        "Chaque sortie représente la probabilité d’appartenir à une classe (chiffres 0 à 9).\n",
        "Cela permet d’interpréter facilement le résultat : le plus grand score indique la classe prédite."
      ],
      "metadata": {
        "id": "CSlUCOTNEonB"
      }
    },
    {
      "cell_type": "markdown",
      "source": [
        "c) Nombre de neurones dans la couche Flatten\n",
        "La couche Flatten transforme chaque image 28×28 en un vecteur 784 (car 28 × 28 = 784).\n",
        "\n",
        "Réponse :\n",
        "𝑛\n",
        "0\n",
        "=\n",
        "784\n",
        "n\n",
        "0\n",
        "​\n",
        " =784"
      ],
      "metadata": {
        "id": "WApj5Z5YEfHY"
      }
    },
    {
      "cell_type": "code",
      "source": [
        "#b Assemblage et visualisation du modèle :\n",
        "\n",
        "# Compilation du modèle (sans entraînement)\n",
        "model.build(input_shape=(None, 28, 28))\n",
        "model.summary()\n"
      ],
      "metadata": {
        "colab": {
          "base_uri": "https://localhost:8080/",
          "height": 225
        },
        "id": "x78_inacDxVa",
        "outputId": "9719349e-3896-4fc2-d045-c605e8f24991"
      },
      "execution_count": 6,
      "outputs": [
        {
          "output_type": "display_data",
          "data": {
            "text/plain": [
              "\u001b[1mModel: \"sequential\"\u001b[0m\n"
            ],
            "text/html": [
              "<pre style=\"white-space:pre;overflow-x:auto;line-height:normal;font-family:Menlo,'DejaVu Sans Mono',consolas,'Courier New',monospace\"><span style=\"font-weight: bold\">Model: \"sequential\"</span>\n",
              "</pre>\n"
            ]
          },
          "metadata": {}
        },
        {
          "output_type": "display_data",
          "data": {
            "text/plain": [
              "┏━━━━━━━━━━━━━━━━━━━━━━━━━━━━━━━━━━━━━━┳━━━━━━━━━━━━━━━━━━━━━━━━━━━━━┳━━━━━━━━━━━━━━━━━┓\n",
              "┃\u001b[1m \u001b[0m\u001b[1mLayer (type)                        \u001b[0m\u001b[1m \u001b[0m┃\u001b[1m \u001b[0m\u001b[1mOutput Shape               \u001b[0m\u001b[1m \u001b[0m┃\u001b[1m \u001b[0m\u001b[1m        Param #\u001b[0m\u001b[1m \u001b[0m┃\n",
              "┡━━━━━━━━━━━━━━━━━━━━━━━━━━━━━━━━━━━━━━╇━━━━━━━━━━━━━━━━━━━━━━━━━━━━━╇━━━━━━━━━━━━━━━━━┩\n",
              "│ flatten (\u001b[38;5;33mFlatten\u001b[0m)                    │ (\u001b[38;5;45mNone\u001b[0m, \u001b[38;5;34m784\u001b[0m)                 │               \u001b[38;5;34m0\u001b[0m │\n",
              "├──────────────────────────────────────┼─────────────────────────────┼─────────────────┤\n",
              "│ dense (\u001b[38;5;33mDense\u001b[0m)                        │ (\u001b[38;5;45mNone\u001b[0m, \u001b[38;5;34m128\u001b[0m)                 │         \u001b[38;5;34m100,480\u001b[0m │\n",
              "├──────────────────────────────────────┼─────────────────────────────┼─────────────────┤\n",
              "│ dense_1 (\u001b[38;5;33mDense\u001b[0m)                      │ (\u001b[38;5;45mNone\u001b[0m, \u001b[38;5;34m10\u001b[0m)                  │           \u001b[38;5;34m1,290\u001b[0m │\n",
              "└──────────────────────────────────────┴─────────────────────────────┴─────────────────┘\n"
            ],
            "text/html": [
              "<pre style=\"white-space:pre;overflow-x:auto;line-height:normal;font-family:Menlo,'DejaVu Sans Mono',consolas,'Courier New',monospace\">┏━━━━━━━━━━━━━━━━━━━━━━━━━━━━━━━━━━━━━━┳━━━━━━━━━━━━━━━━━━━━━━━━━━━━━┳━━━━━━━━━━━━━━━━━┓\n",
              "┃<span style=\"font-weight: bold\"> Layer (type)                         </span>┃<span style=\"font-weight: bold\"> Output Shape                </span>┃<span style=\"font-weight: bold\">         Param # </span>┃\n",
              "┡━━━━━━━━━━━━━━━━━━━━━━━━━━━━━━━━━━━━━━╇━━━━━━━━━━━━━━━━━━━━━━━━━━━━━╇━━━━━━━━━━━━━━━━━┩\n",
              "│ flatten (<span style=\"color: #0087ff; text-decoration-color: #0087ff\">Flatten</span>)                    │ (<span style=\"color: #00d7ff; text-decoration-color: #00d7ff\">None</span>, <span style=\"color: #00af00; text-decoration-color: #00af00\">784</span>)                 │               <span style=\"color: #00af00; text-decoration-color: #00af00\">0</span> │\n",
              "├──────────────────────────────────────┼─────────────────────────────┼─────────────────┤\n",
              "│ dense (<span style=\"color: #0087ff; text-decoration-color: #0087ff\">Dense</span>)                        │ (<span style=\"color: #00d7ff; text-decoration-color: #00d7ff\">None</span>, <span style=\"color: #00af00; text-decoration-color: #00af00\">128</span>)                 │         <span style=\"color: #00af00; text-decoration-color: #00af00\">100,480</span> │\n",
              "├──────────────────────────────────────┼─────────────────────────────┼─────────────────┤\n",
              "│ dense_1 (<span style=\"color: #0087ff; text-decoration-color: #0087ff\">Dense</span>)                      │ (<span style=\"color: #00d7ff; text-decoration-color: #00d7ff\">None</span>, <span style=\"color: #00af00; text-decoration-color: #00af00\">10</span>)                  │           <span style=\"color: #00af00; text-decoration-color: #00af00\">1,290</span> │\n",
              "└──────────────────────────────────────┴─────────────────────────────┴─────────────────┘\n",
              "</pre>\n"
            ]
          },
          "metadata": {}
        },
        {
          "output_type": "display_data",
          "data": {
            "text/plain": [
              "\u001b[1m Total params: \u001b[0m\u001b[38;5;34m101,770\u001b[0m (397.54 KB)\n"
            ],
            "text/html": [
              "<pre style=\"white-space:pre;overflow-x:auto;line-height:normal;font-family:Menlo,'DejaVu Sans Mono',consolas,'Courier New',monospace\"><span style=\"font-weight: bold\"> Total params: </span><span style=\"color: #00af00; text-decoration-color: #00af00\">101,770</span> (397.54 KB)\n",
              "</pre>\n"
            ]
          },
          "metadata": {}
        },
        {
          "output_type": "display_data",
          "data": {
            "text/plain": [
              "\u001b[1m Trainable params: \u001b[0m\u001b[38;5;34m101,770\u001b[0m (397.54 KB)\n"
            ],
            "text/html": [
              "<pre style=\"white-space:pre;overflow-x:auto;line-height:normal;font-family:Menlo,'DejaVu Sans Mono',consolas,'Courier New',monospace\"><span style=\"font-weight: bold\"> Trainable params: </span><span style=\"color: #00af00; text-decoration-color: #00af00\">101,770</span> (397.54 KB)\n",
              "</pre>\n"
            ]
          },
          "metadata": {}
        },
        {
          "output_type": "display_data",
          "data": {
            "text/plain": [
              "\u001b[1m Non-trainable params: \u001b[0m\u001b[38;5;34m0\u001b[0m (0.00 B)\n"
            ],
            "text/html": [
              "<pre style=\"white-space:pre;overflow-x:auto;line-height:normal;font-family:Menlo,'DejaVu Sans Mono',consolas,'Courier New',monospace\"><span style=\"font-weight: bold\"> Non-trainable params: </span><span style=\"color: #00af00; text-decoration-color: #00af00\">0</span> (0.00 B)\n",
              "</pre>\n"
            ]
          },
          "metadata": {}
        }
      ]
    },
    {
      "cell_type": "code",
      "source": [
        "#a Construction du modèle avec Sequential :\n",
        "\n",
        "import tensorflow as tf\n",
        "from tensorflow import keras\n",
        "from tensorflow.keras import layers\n",
        "\n",
        "# Définition du modèle\n",
        "model = keras.Sequential([\n",
        "    layers.Flatten(input_shape=(28, 28)),  # Convertit en vecteur 1D\n",
        "    layers.Dense(128, activation='sigmoid', kernel_initializer='glorot_normal'),\n",
        "    layers.Dense(10, activation='softmax', kernel_initializer='glorot_normal')\n",
        "])\n"
      ],
      "metadata": {
        "colab": {
          "base_uri": "https://localhost:8080/"
        },
        "id": "cgSYIoWODddc",
        "outputId": "b63f304f-a83a-4406-b005-87ea7cdb1f9d"
      },
      "execution_count": 5,
      "outputs": [
        {
          "output_type": "stream",
          "name": "stderr",
          "text": [
            "/usr/local/lib/python3.11/dist-packages/keras/src/layers/reshaping/flatten.py:37: UserWarning: Do not pass an `input_shape`/`input_dim` argument to a layer. When using Sequential models, prefer using an `Input(shape)` object as the first layer in the model instead.\n",
            "  super().__init__(**kwargs)\n"
          ]
        }
      ]
    },
    {
      "cell_type": "markdown",
      "source": [
        "## 3. Entrainement : compilation et calibration\n",
        "\n",
        "Lors de cette phase, on doit préciser les modalités de l'entrainement du modèle : fonction de perte, poids entrainables, algorithmes d'optimisation à utiliser, ... Ceci est réalisé par $\\texttt{compile}$.\n",
        "\n",
        "-> https://keras.io/api/models/model_training_apis/\n",
        "\n",
        "Il faut bien comprendre qu'à ce stade, on ne lance pas encore l'entrainement réel. On en décrit simplement les paramètres en vue des calculs menés lors de la prochaine étape.\n",
        "\n",
        "**Question 3:**\n",
        "\n",
        "a) A l'aide la méthode $\\texttt{compile}$, préparer la calibration pour la configuration suivante:\n",
        "\n",
        "-fonction de perte: entropie croisée\n",
        "\n",
        "-algorithme d'optimisation: gradient stochastique avec taux d'apprentissage $\\eta=0.001$.\n",
        "\n",
        "-métrique : précision\n",
        "\n",
        "b) Quel est le rôle de SGD ? Outre SGD, quels algorithmes sont disponibles ?\n",
        "\n",
        "c) Justifier le choix de la fonction de perte\n",
        "$\\texttt{SparseCategoricalCrossentropy}$.\n",
        "\n",
        "d) Quelle est la différence entre la métrique et la fonction de perte ?\n",
        "\n"
      ],
      "metadata": {
        "id": "Lj1bwMGiPkaR"
      }
    },
    {
      "cell_type": "code",
      "source": [
        "\n"
      ],
      "metadata": {
        "id": "ZrEnRj3IRddd"
      },
      "execution_count": null,
      "outputs": []
    },
    {
      "cell_type": "markdown",
      "source": [
        "La méthode $\\texttt{fit}$ ci-dessous permet de lancer l'entrainement proprement dit. On retient **dans un premier temps** les paramètres suivants.\n",
        "\n",
        "- batch_size = 128\n",
        "- epochs = 100\n",
        "- validation_split = 0.3\n",
        "\n",
        "**Question 4:**\n",
        "\n",
        "a) A quoi correspond le nombre d'époques dans l'appel à la fonction ? Et le paramètre batch_size (taille de lot en français) ? Comment impactent-ils la rapidité de l'apprentissage ?\n",
        "\n",
        "b) Quel est la signification du paramètre validation_split ? Quelle différence avec le jeu de données test ?\n",
        "\n",
        "c) Quelle est la valeur finale de la fonction de perte à l'issue de la phase d'entrainement  ? Quelle est la valeur finale de la précision sur les échantillons réservés pour la phase de validation ?\n",
        "\n",
        "d) L'entrainement vous semble-t-il terminé ?"
      ],
      "metadata": {
        "id": "UvVfx8zaRg-4"
      }
    },
    {
      "cell_type": "code",
      "execution_count": null,
      "metadata": {
        "id": "V6rZMvdTUxzP"
      },
      "outputs": [],
      "source": [
        "## Step 4\n",
        "## Entrainement et analyse des résultats\n",
        "\n",
        "## Paramétrage des \"callback\" vers Tensorboard\n",
        "log_dir = \"logs/fit/\" + datetime.datetime.now().strftime(\"%Y%m%d-%H%M%S\")\n",
        "tensorboard_callback = tf.keras.callbacks.TensorBoard(log_dir=log_dir, histogram_freq=1)\n",
        "\n",
        "## Paramétrage de l'entrainement\n",
        "....\n",
        "\n",
        "%tensorboard --logdir logs/fit\n",
        "\n"
      ]
    },
    {
      "cell_type": "markdown",
      "source": [
        "**Question 5:**\n",
        "\n",
        "a) Afficher la prédiction du modèle pour le premier échnatillon de test. Expliquer l'output. Le résultat vous parait-il cohérent ?\n",
        "\n",
        "b) Evaluer la performance du modèle sur la totalité des échantillons de test."
      ],
      "metadata": {
        "id": "O8HyCBw16d0b"
      }
    },
    {
      "cell_type": "code",
      "source": [],
      "metadata": {
        "id": "1h2_CQqn7Xwc"
      },
      "execution_count": null,
      "outputs": []
    },
    {
      "cell_type": "code",
      "source": [],
      "metadata": {
        "id": "vJyXz3mNRCMC"
      },
      "execution_count": null,
      "outputs": []
    },
    {
      "cell_type": "markdown",
      "source": [
        "## 4. Optimisation de l'apprentissage\n",
        "\n",
        "**Question 6:**\n",
        "\n",
        "a) Pour le même modèle et les mêmes (hyper)paramètres d'apprentissage, on décide d'avoir recours à un nouvel algorithme d'optimisation Adam (-> https://www.tensorflow.org/api_docs/python/tf/keras/optimizers, https://arxiv.org/abs/1412.6980). A nombre d'époques et taille de lots constants, réentrainez le modèle de FFNN défini précédemment.\n",
        "\n",
        "b) Comment interpréter l'évolution des fonctions de perte d'entrainement et de validation dans ce cas ?\n",
        "\n",
        "c) Afin de réduire le phénomène observé, on décide d'avoir recours à une technique dite de dropout avec un taux de 1/4 (-> https://www.tensorflow.org/tutorials/keras/overfit_and_underfit). Réinitialiser et réentrainer le même modèle en tenant compte de cette procédure. Que constatez-vous ?\n",
        "\n",
        "d) Etudier numériquement la dépendance de la perte (*loss*) finale en fonction de $n_1$ pour les lots d'entrainement, de validation et de test (nombres d'époques $T=20$) à nombre d'époques et taille de lots constants (algorithme d'optimisation fixé -> Adam)\n",
        "\n",
        "e) Proposer deux modèles de type FFNN à plusieurs couches cachées dont le nombre de paramètres est du même ordre de grandeur que celui associé au modèle à une couche cachée à $n_1=64$ neurones. Discuter l'influence de la profondeur en terme de performance."
      ],
      "metadata": {
        "id": "kaMnRBOhRtJD"
      }
    },
    {
      "cell_type": "code",
      "source": [],
      "metadata": {
        "id": "rpmfV3VTTaiF"
      },
      "execution_count": null,
      "outputs": []
    }
  ]
}